{
 "cells": [
  {
   "cell_type": "markdown",
   "metadata": {},
   "source": [
    "# Branching and Iteration\n",
    "## Lecture 2 - Ana Bell \n",
    "\n",
    "### Strings\n",
    "*sequences of characters (any), and you tell python that you have a string by writing it in quotes, single or double, doesn't really matter*\n",
    "\n",
    "#### Concatenation\n",
    "1. Commas **,** \n",
    "    * Python will automatically add a space \n",
    "    * Do not have to be strings \n",
    "2. Plus sign **+** \n",
    "    * Concatenation operator by def\n",
    "    * Must be string objects"
   ]
  },
  {
   "cell_type": "code",
   "execution_count": 3,
   "metadata": {},
   "outputs": [
    {
     "name": "stdout",
     "output_type": "stream",
     "text": [
      "Hello thereAna\n"
     ]
    }
   ],
   "source": [
    "hello = \"Hello there\"\n",
    "name = \"Ana\"\n",
    "greet = hello + name\n",
    "print(greet)"
   ]
  },
  {
   "cell_type": "markdown",
   "metadata": {},
   "source": [
    "As we can see it doesn't automatically add a space, so you should add it yourself, like this"
   ]
  },
  {
   "cell_type": "code",
   "execution_count": 4,
   "metadata": {},
   "outputs": [
    {
     "name": "stdout",
     "output_type": "stream",
     "text": [
      "Hello there Ana\n"
     ]
    }
   ],
   "source": [
    "greet = hello + \" \" + name\n",
    "print(greet)"
   ]
  },
  {
   "cell_type": "markdown",
   "metadata": {},
   "source": [
    "However, there's a trick. If instead of a + we write \",\", Python will automatically add a space"
   ]
  },
  {
   "cell_type": "code",
   "execution_count": 8,
   "metadata": {},
   "outputs": [
    {
     "name": "stdout",
     "output_type": "stream",
     "text": [
      "Hello there Ana\n"
     ]
    }
   ],
   "source": [
    "print(hello, name)"
   ]
  },
  {
   "cell_type": "markdown",
   "metadata": {},
   "source": [
    "*ta- daa*"
   ]
  },
  {
   "cell_type": "markdown",
   "metadata": {},
   "source": [
    "#### Operations "
   ]
  },
  {
   "cell_type": "code",
   "execution_count": 7,
   "metadata": {},
   "outputs": [
    {
     "name": "stdout",
     "output_type": "stream",
     "text": [
      "Hello there Ana Ana Ana\n"
     ]
    }
   ],
   "source": [
    "silly = hello + (\" \" + name)*3\n",
    "print(silly)"
   ]
  },
  {
   "cell_type": "markdown",
   "metadata": {},
   "source": [
    "#### Input\n",
    "Prints whatever there is in the quotes  \n",
    "Binds value to a variable"
   ]
  },
  {
   "cell_type": "code",
   "execution_count": 10,
   "metadata": {},
   "outputs": [
    {
     "name": "stdout",
     "output_type": "stream",
     "text": [
      "Type anything... gyicbunxlkm \n",
      "gyicbunxlkm gyicbunxlkm gyicbunxlkm gyicbunxlkm gyicbunxlkm \n",
      "Type a number... 9\n",
      "45\n"
     ]
    }
   ],
   "source": [
    "text = input(\"Type anything... \")\n",
    "print(5*text)\n",
    "#If it's a number, you have to define it \n",
    "num = int(input(\"Type a number... \"))\n",
    "print(5*num)"
   ]
  },
  {
   "cell_type": "markdown",
   "metadata": {},
   "source": [
    "#### Branching\n",
    "~~~~\n",
    "if (condition):\n",
    "    expression\n",
    "    expression\n",
    "    expression\n",
    "else:\n",
    "    expression\n",
    "    expression\n",
    "    expression\n",
    "~~~~\n",
    "If the condition is true, then I perform the first set of expressions  \n",
    "Otherwise (else) I perform the second set of expressions  \n",
    "You can only enter only one, and you will enter only the first that is true\n",
    "~~~~\n",
    "if (condition1):\n",
    "    expression1\n",
    "    expression1\n",
    "    expression1\n",
    "elif(condition2):\n",
    "    expression2\n",
    "    expression2\n",
    "    expression2\n",
    "elif(condition3):\n",
    "    expression3\n",
    "    expression3\n",
    "    expression3\n",
    "else:\n",
    "    expression4\n",
    "    expression4\n",
    "    expression4\n",
    "~~~~\n",
    "elif  are, as the name suggests, the son of the union of if and \n",
    "\n"
   ]
  },
  {
   "cell_type": "code",
   "execution_count": 15,
   "metadata": {},
   "outputs": [
    {
     "name": "stdout",
     "output_type": "stream",
     "text": [
      "Enter a number for x: 3\n",
      "Enter a number for y: 5\n",
      "x and y are NOT equal\n",
      "x is smaller\n",
      "thanks!\n"
     ]
    }
   ],
   "source": [
    "## EXAMPLE: conditionals/branching \n",
    "####################\n",
    "x = float(input(\"Enter a number for x: \"))\n",
    "y = float(input(\"Enter a number for y: \"))\n",
    "if x == y:\n",
    "    print(\"x and y are equal\")\n",
    "else:\n",
    "    print(\"x and y are NOT equal\")\n",
    "    \n",
    "if x < y:\n",
    "    print(\"x is smaller\")\n",
    "elif x > y:\n",
    "    print(\"y is smaller\")\n",
    "print(\"thanks!\")"
   ]
  },
  {
   "cell_type": "code",
   "execution_count": null,
   "metadata": {},
   "outputs": [],
   "source": []
  },
  {
   "cell_type": "code",
   "execution_count": null,
   "metadata": {},
   "outputs": [],
   "source": [
    "####################\n",
    "## EXAMPLE: remainder \n",
    "####################\n",
    "num = int(input(\"Enter a number: \"))\n",
    "if num % 2 == 0:\n",
    "    print(\"number is even\")\n",
    "else:\n",
    "    print(\"number is odd\")"
   ]
  },
  {
   "cell_type": "code",
   "execution_count": 17,
   "metadata": {},
   "outputs": [
    {
     "name": "stdout",
     "output_type": "stream",
     "text": [
      "You are in the Lost Forest\n",
      "****************\n",
      "****************\n",
      " :)\n",
      "****************\n",
      "****************\n",
      "Go left or right? right\n",
      "You are in the Lost Forest\n",
      "****************\n",
      "******       ***\n",
      "  (╯°□°）╯︵ ┻━┻\n",
      "****************\n",
      "****************\n",
      "Go left or right? right\n",
      "You are in the Lost Forest\n",
      "****************\n",
      "******       ***\n",
      "  (╯°□°）╯︵ ┻━┻\n",
      "****************\n",
      "****************\n",
      "Go left or right? left\n",
      "\n",
      "You got out of the Lost Forest!\n",
      "\\o/\n"
     ]
    }
   ],
   "source": [
    "####################\n",
    "## EXAMPLE: while loops \n",
    "## Try expanding this code to show a sad face if you go right\n",
    "## twice and flip the table any more times than that. \n",
    "## Hint: use a counter\n",
    "####################\n",
    "n = input(\"You are in the Lost Forest\\n****************\\n****************\\n :)\\n****************\\n****************\\nGo left or right? \")\n",
    "while n == \"right\" or n == \"Right\":\n",
    "    n = input(\"You are in the Lost Forest\\n****************\\n******       ***\\n  (╯°□°）╯︵ ┻━┻\\n****************\\n****************\\nGo left or right? \")\n",
    "print(\"\\nYou got out of the Lost Forest!\\n\\o/\")\n"
   ]
  },
  {
   "cell_type": "code",
   "execution_count": null,
   "metadata": {},
   "outputs": [],
   "source": []
  },
  {
   "cell_type": "code",
   "execution_count": 18,
   "metadata": {},
   "outputs": [
    {
     "name": "stdout",
     "output_type": "stream",
     "text": [
      "0\n",
      "1\n",
      "2\n",
      "3\n",
      "4\n",
      "45\n",
      "24\n",
      "5\n"
     ]
    }
   ],
   "source": [
    "####################\n",
    "## EXAMPLE: for loops\n",
    "####################\n",
    "for n in range(5):\n",
    "    print(n)\n",
    "\n",
    "mysum = 0\n",
    "for i in range(10):\n",
    "    mysum += i\n",
    "print(mysum)\n",
    "\n",
    "mysum = 0\n",
    "for i in range(7, 10):\n",
    "    mysum += i\n",
    "print(mysum)\n",
    "\n",
    "mysum = 0\n",
    "for i in range(5, 11, 2):\n",
    "    mysum += i\n",
    "    if mysum == 5:\n",
    "        break\n",
    "        mysum += 1\n",
    "print(mysum)\n"
   ]
  },
  {
   "cell_type": "code",
   "execution_count": null,
   "metadata": {},
   "outputs": [],
   "source": []
  },
  {
   "cell_type": "code",
   "execution_count": null,
   "metadata": {},
   "outputs": [],
   "source": []
  },
  {
   "cell_type": "code",
   "execution_count": null,
   "metadata": {},
   "outputs": [],
   "source": []
  },
  {
   "cell_type": "code",
   "execution_count": null,
   "metadata": {},
   "outputs": [],
   "source": []
  },
  {
   "cell_type": "code",
   "execution_count": null,
   "metadata": {},
   "outputs": [],
   "source": []
  },
  {
   "cell_type": "code",
   "execution_count": null,
   "metadata": {},
   "outputs": [],
   "source": []
  },
  {
   "cell_type": "code",
   "execution_count": null,
   "metadata": {},
   "outputs": [],
   "source": []
  },
  {
   "cell_type": "code",
   "execution_count": null,
   "metadata": {},
   "outputs": [],
   "source": []
  },
  {
   "cell_type": "code",
   "execution_count": null,
   "metadata": {},
   "outputs": [],
   "source": []
  },
  {
   "cell_type": "code",
   "execution_count": null,
   "metadata": {},
   "outputs": [],
   "source": []
  },
  {
   "cell_type": "code",
   "execution_count": null,
   "metadata": {},
   "outputs": [],
   "source": []
  },
  {
   "cell_type": "code",
   "execution_count": null,
   "metadata": {},
   "outputs": [],
   "source": []
  },
  {
   "cell_type": "code",
   "execution_count": null,
   "metadata": {},
   "outputs": [],
   "source": []
  },
  {
   "cell_type": "code",
   "execution_count": null,
   "metadata": {},
   "outputs": [],
   "source": []
  },
  {
   "cell_type": "code",
   "execution_count": null,
   "metadata": {},
   "outputs": [],
   "source": []
  },
  {
   "cell_type": "code",
   "execution_count": null,
   "metadata": {},
   "outputs": [],
   "source": []
  },
  {
   "cell_type": "code",
   "execution_count": null,
   "metadata": {},
   "outputs": [],
   "source": []
  },
  {
   "cell_type": "code",
   "execution_count": null,
   "metadata": {},
   "outputs": [],
   "source": []
  },
  {
   "cell_type": "code",
   "execution_count": null,
   "metadata": {},
   "outputs": [],
   "source": []
  },
  {
   "cell_type": "code",
   "execution_count": null,
   "metadata": {},
   "outputs": [],
   "source": []
  },
  {
   "cell_type": "code",
   "execution_count": null,
   "metadata": {},
   "outputs": [],
   "source": []
  },
  {
   "cell_type": "code",
   "execution_count": null,
   "metadata": {},
   "outputs": [],
   "source": []
  },
  {
   "cell_type": "code",
   "execution_count": null,
   "metadata": {},
   "outputs": [],
   "source": []
  },
  {
   "cell_type": "code",
   "execution_count": null,
   "metadata": {},
   "outputs": [],
   "source": []
  }
 ],
 "metadata": {
  "kernelspec": {
   "display_name": "Python 3",
   "language": "python",
   "name": "python3"
  },
  "language_info": {
   "codemirror_mode": {
    "name": "ipython",
    "version": 3
   },
   "file_extension": ".py",
   "mimetype": "text/x-python",
   "name": "python",
   "nbconvert_exporter": "python",
   "pygments_lexer": "ipython3",
   "version": "3.8.5"
  }
 },
 "nbformat": 4,
 "nbformat_minor": 4
}

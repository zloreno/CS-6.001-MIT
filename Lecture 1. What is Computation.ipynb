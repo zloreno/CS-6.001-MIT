{
 "cells": [
  {
   "cell_type": "markdown",
   "metadata": {},
   "source": [
    "# What is Computation?\n",
    "## Lecture 1 - Ana Bell\n",
    "\n",
    "### Topics\n",
    "1. Represent knowledge with data structures \n",
    "2. Iteration and recursion as computational metaphores\n",
    "    * Control flow to manage\n",
    "3. Abstraction of procedures and data types\n",
    "    * How to write readable code, well organized, modular, easy to understand not just by other people, but by future you\n",
    "4. Organize and modularize systems using objects classes and methods\n",
    "5. Different classes of algorithms, searching and sorting\n",
    "6. Complexity of algorithms\n",
    "    * The more CS part of this course, how do you compare programs"
   ]
  },
  {
   "cell_type": "markdown",
   "metadata": {},
   "source": [
    "#### What does a computer do\n",
    "Calculations, and stores them in computer memory\n",
    "1. Calculations built in the language (+-*/)\n",
    "2. New types of calculations, based on the\n",
    "Computers do what you tell them to do"
   ]
  },
  {
   "cell_type": "markdown",
   "metadata": {},
   "source": [
    "#### Types of knowledge\n",
    "1. Declarative knowledge\n",
    "    * Statement of a fact, I know what you tell me\n",
    "    * The square root of a number x is y st y*y=x\n",
    "2. Imperative knowledge\n",
    "    * Is a recipe, or \"know-to\", or sequence of steps\n",
    "    * Let's find the square root of a known number x\n",
    "    1. Start with a guess g\n",
    "    2. If g*g is close enough to x, then we stop\n",
    "    3. Otherwise we take a new guess by averaging g and g/x\n",
    "    4. Repeat untill close enough\n",
    "\n",
    "This problem has 3 components:\n",
    "1. A seimple sequence of steps\n",
    "2. Flow of control\n",
    "    * We made decisions (is close enough)\n",
    "    * We repeated some steps\n",
    "3. A way to stop\n",
    "    * We decided we were close enough\n",
    "\n",
    "This problem is an algorithm"
   ]
  },
  {
   "cell_type": "markdown",
   "metadata": {},
   "source": [
    "#### Two different types of computers\n",
    "1. Fixed program computer\n",
    "    * Can do just this one thing, you want to do something else, you use another one, a different one\n",
    "2. Stored program computer\n",
    "    * Machine stores, modifies, and executes series instructions\n",
    "    * Computers as we know them today\n",
    "  \n",
    "    "
   ]
  },
  {
   "cell_type": "markdown",
   "metadata": {},
   "source": [
    "#### Stored program computers\n",
    "1. Memory\n",
    "    * Data and sequence of instruction\n",
    "2. Control unit\n",
    "    * Contains one program counter \n",
    "    * When you load a sequence of instruction, it loads the first and sents it to the ALU\n",
    "    * When the ALU is done the counter = counter + 1 and reads the following line, and starts all over\n",
    "3. Arithmetic Logic Unit (ALU)\n",
    "    * Where basic and primitive operations are done\n",
    "    * Arithmetic and logic,\n",
    "    * Simple tests (<>!=)\n",
    "    * Moving data"
   ]
  },
  {
   "cell_type": "markdown",
   "metadata": {},
   "source": [
    "#### Objects\n",
    "Everything in python is an object, and every object has a type\n",
    "\n",
    "1. Scalar object\n",
    "    * Can be subdivided\n",
    "    * A sequence of numbers\n",
    "2. Non-scalar object\n",
    "    * Cannot be subdivided\n",
    "    * One number"
   ]
  },
  {
   "cell_type": "markdown",
   "metadata": {},
   "source": [
    "#### Expressions\n",
    "Has this formula Object-Operator-Object\n",
    "\n",
    "Ex.\n",
    "~~~~\n",
    "i%j \n",
    "~~~~\n",
    "Gives the remainder of the division"
   ]
  },
  {
   "cell_type": "code",
   "execution_count": null,
   "metadata": {},
   "outputs": [],
   "source": []
  }
 ],
 "metadata": {
  "kernelspec": {
   "display_name": "Python 3",
   "language": "python",
   "name": "python3"
  },
  "language_info": {
   "codemirror_mode": {
    "name": "ipython",
    "version": 3
   },
   "file_extension": ".py",
   "mimetype": "text/x-python",
   "name": "python",
   "nbconvert_exporter": "python",
   "pygments_lexer": "ipython3",
   "version": "3.8.5"
  }
 },
 "nbformat": 4,
 "nbformat_minor": 4
}
